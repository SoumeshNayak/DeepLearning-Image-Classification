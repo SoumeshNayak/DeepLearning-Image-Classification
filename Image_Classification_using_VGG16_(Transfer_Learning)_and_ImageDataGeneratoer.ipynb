{
  "nbformat": 4,
  "nbformat_minor": 0,
  "metadata": {
    "colab": {
      "provenance": [],
      "gpuType": "T4",
      "authorship_tag": "ABX9TyOVIKjqRKVi4UxrvFk+f8dT",
      "include_colab_link": true
    },
    "kernelspec": {
      "name": "python3",
      "display_name": "Python 3"
    },
    "language_info": {
      "name": "python"
    },
    "accelerator": "GPU"
  },
  "cells": [
    {
      "cell_type": "markdown",
      "metadata": {
        "id": "view-in-github",
        "colab_type": "text"
      },
      "source": [
        "<a href=\"https://colab.research.google.com/github/SoumeshNayak/DeepLearning-Image-Classification/blob/main/Image_Classification_using_VGG16_(Transfer_Learning)_and_ImageDataGeneratoer.ipynb\" target=\"_parent\"><img src=\"https://colab.research.google.com/assets/colab-badge.svg\" alt=\"Open In Colab\"/></a>"
      ]
    },
    {
      "cell_type": "code",
      "execution_count": null,
      "metadata": {
        "id": "Ujk_hznuVOae"
      },
      "outputs": [],
      "source": [
        "!mkdir ~p ~/.kaggle\n",
        "!cp kaggle.json ~/.kaggle/"
      ]
    },
    {
      "cell_type": "code",
      "source": [
        "!kaggle datasets download -d salader/dogs-vs-cats"
      ],
      "metadata": {
        "colab": {
          "base_uri": "https://localhost:8080/"
        },
        "id": "halCT-S4V0lT",
        "outputId": "bb40687c-923f-473d-8eb2-7bc1f872f08d"
      },
      "execution_count": null,
      "outputs": [
        {
          "output_type": "stream",
          "name": "stdout",
          "text": [
            "Warning: Your Kaggle API key is readable by other users on this system! To fix this, you can run 'chmod 600 /root/.kaggle/kaggle.json'\n",
            "Downloading dogs-vs-cats.zip to /content\n",
            "100% 1.06G/1.06G [00:27<00:00, 38.0MB/s]\n",
            "100% 1.06G/1.06G [00:27<00:00, 42.0MB/s]\n"
          ]
        }
      ]
    },
    {
      "cell_type": "code",
      "source": [
        "import zipfile\n",
        "zip_ref=zipfile.ZipFile(\"/content/dogs-vs-cats.zip\",\"r\")\n",
        "zip_ref.extractall('/content')\n",
        "zip_ref.close()"
      ],
      "metadata": {
        "id": "jIr7K58KWC4F"
      },
      "execution_count": null,
      "outputs": []
    },
    {
      "cell_type": "code",
      "source": [
        "import tensorflow as tf\n",
        "from tensorflow import keras"
      ],
      "metadata": {
        "id": "-9cLeiaRWco0"
      },
      "execution_count": null,
      "outputs": []
    },
    {
      "cell_type": "code",
      "source": [
        "from keras import Sequential\n",
        "from keras.layers import Dense,Flatten\n",
        "from keras.applications.vgg16 import VGG16"
      ],
      "metadata": {
        "id": "0YdwbtzwW1Hj"
      },
      "execution_count": null,
      "outputs": []
    },
    {
      "cell_type": "code",
      "source": [
        "# we will make the model of vgg16 whrer we will give wt what it get after trainging in imagenet\n",
        "# We have to remove fc layer or dense layer and freez conv_later by using include_top=False\n",
        "conv_base=VGG16(\n",
        "    weights='imagenet',\n",
        "    include_top=False,\n",
        "    input_shape=(150,150,3)\n",
        ")"
      ],
      "metadata": {
        "colab": {
          "base_uri": "https://localhost:8080/"
        },
        "id": "IWmMH8s8XI_t",
        "outputId": "e9e6b569-40c6-4131-be81-4083b3ac91e0"
      },
      "execution_count": null,
      "outputs": [
        {
          "output_type": "stream",
          "name": "stdout",
          "text": [
            "Downloading data from https://storage.googleapis.com/tensorflow/keras-applications/vgg16/vgg16_weights_tf_dim_ordering_tf_kernels_notop.h5\n",
            "58889256/58889256 [==============================] - 2s 0us/step\n"
          ]
        }
      ]
    },
    {
      "cell_type": "code",
      "source": [
        "conv_base.summary()"
      ],
      "metadata": {
        "colab": {
          "base_uri": "https://localhost:8080/"
        },
        "id": "cSK9COvVYCDf",
        "outputId": "fa465248-2413-47c1-a349-63d309bfbb41"
      },
      "execution_count": null,
      "outputs": [
        {
          "output_type": "stream",
          "name": "stdout",
          "text": [
            "Model: \"vgg16\"\n",
            "_________________________________________________________________\n",
            " Layer (type)                Output Shape              Param #   \n",
            "=================================================================\n",
            " input_1 (InputLayer)        [(None, 150, 150, 3)]     0         \n",
            "                                                                 \n",
            " block1_conv1 (Conv2D)       (None, 150, 150, 64)      1792      \n",
            "                                                                 \n",
            " block1_conv2 (Conv2D)       (None, 150, 150, 64)      36928     \n",
            "                                                                 \n",
            " block1_pool (MaxPooling2D)  (None, 75, 75, 64)        0         \n",
            "                                                                 \n",
            " block2_conv1 (Conv2D)       (None, 75, 75, 128)       73856     \n",
            "                                                                 \n",
            " block2_conv2 (Conv2D)       (None, 75, 75, 128)       147584    \n",
            "                                                                 \n",
            " block2_pool (MaxPooling2D)  (None, 37, 37, 128)       0         \n",
            "                                                                 \n",
            " block3_conv1 (Conv2D)       (None, 37, 37, 256)       295168    \n",
            "                                                                 \n",
            " block3_conv2 (Conv2D)       (None, 37, 37, 256)       590080    \n",
            "                                                                 \n",
            " block3_conv3 (Conv2D)       (None, 37, 37, 256)       590080    \n",
            "                                                                 \n",
            " block3_pool (MaxPooling2D)  (None, 18, 18, 256)       0         \n",
            "                                                                 \n",
            " block4_conv1 (Conv2D)       (None, 18, 18, 512)       1180160   \n",
            "                                                                 \n",
            " block4_conv2 (Conv2D)       (None, 18, 18, 512)       2359808   \n",
            "                                                                 \n",
            " block4_conv3 (Conv2D)       (None, 18, 18, 512)       2359808   \n",
            "                                                                 \n",
            " block4_pool (MaxPooling2D)  (None, 9, 9, 512)         0         \n",
            "                                                                 \n",
            " block5_conv1 (Conv2D)       (None, 9, 9, 512)         2359808   \n",
            "                                                                 \n",
            " block5_conv2 (Conv2D)       (None, 9, 9, 512)         2359808   \n",
            "                                                                 \n",
            " block5_conv3 (Conv2D)       (None, 9, 9, 512)         2359808   \n",
            "                                                                 \n",
            " block5_pool (MaxPooling2D)  (None, 4, 4, 512)         0         \n",
            "                                                                 \n",
            "=================================================================\n",
            "Total params: 14,714,688\n",
            "Trainable params: 14,714,688\n",
            "Non-trainable params: 0\n",
            "_________________________________________________________________\n"
          ]
        }
      ]
    },
    {
      "cell_type": "code",
      "source": [
        "# Make our own dense layer\n",
        "model=Sequential()\n",
        "model.add(conv_base)\n",
        "model.add(Flatten())\n",
        "model.add(Dense(256,activation='relu'))\n",
        "model.add(Dense(1,activation=\"sigmoid\"))"
      ],
      "metadata": {
        "id": "jyWgongNYKFU"
      },
      "execution_count": null,
      "outputs": []
    },
    {
      "cell_type": "code",
      "source": [
        "model.summary()"
      ],
      "metadata": {
        "colab": {
          "base_uri": "https://localhost:8080/"
        },
        "id": "SJN8kprKYjL-",
        "outputId": "2c37b3b2-c85e-4466-a12a-55e299399fab"
      },
      "execution_count": null,
      "outputs": [
        {
          "output_type": "stream",
          "name": "stdout",
          "text": [
            "Model: \"sequential\"\n",
            "_________________________________________________________________\n",
            " Layer (type)                Output Shape              Param #   \n",
            "=================================================================\n",
            " vgg16 (Functional)          (None, 4, 4, 512)         14714688  \n",
            "                                                                 \n",
            " flatten (Flatten)           (None, 8192)              0         \n",
            "                                                                 \n",
            " dense (Dense)               (None, 256)               2097408   \n",
            "                                                                 \n",
            " dense_1 (Dense)             (None, 1)                 257       \n",
            "                                                                 \n",
            "=================================================================\n",
            "Total params: 16,812,353\n",
            "Trainable params: 16,812,353\n",
            "Non-trainable params: 0\n",
            "_________________________________________________________________\n"
          ]
        }
      ]
    },
    {
      "cell_type": "code",
      "source": [
        "#make freez of conv_layer\n",
        "conv_base.trainable=False\n"
      ],
      "metadata": {
        "id": "IOfutipqYlDv"
      },
      "execution_count": null,
      "outputs": []
    },
    {
      "cell_type": "code",
      "source": [
        "#generators\n",
        "train_ds=keras.utils.image_dataset_from_directory(\n",
        "    directory='/content/train',\n",
        "    labels='inferred',\n",
        "    label_mode='int',\n",
        "    batch_size=32,\n",
        "    image_size=(150,150)\n",
        ")\n",
        "\n",
        "validation_ds=keras.utils.image_dataset_from_directory(\n",
        "    directory='/content/test',\n",
        "    labels='inferred',\n",
        "    label_mode='int',\n",
        "    batch_size=32,\n",
        "    image_size=(150,150)\n",
        ")"
      ],
      "metadata": {
        "colab": {
          "base_uri": "https://localhost:8080/"
        },
        "id": "SaK7RVWuY-0F",
        "outputId": "81f7745f-7d50-44e9-c8a5-c4687f2e5887"
      },
      "execution_count": null,
      "outputs": [
        {
          "output_type": "stream",
          "name": "stdout",
          "text": [
            "Found 20000 files belonging to 2 classes.\n",
            "Found 5000 files belonging to 2 classes.\n"
          ]
        }
      ]
    },
    {
      "cell_type": "code",
      "source": [
        "# Normalize the data\n",
        "def process(image,label):\n",
        "  image=tf.cast(image/255.,tf.float32)\n",
        "  return image,label\n",
        "train_ds=train_ds.map(process)\n",
        "validation_ds=validation_ds.map(process)  "
      ],
      "metadata": {
        "id": "_QgVZnd0ab_G"
      },
      "execution_count": null,
      "outputs": []
    },
    {
      "cell_type": "code",
      "source": [
        "model.compile(optimizer='adam',loss=\"binary_crossentropy\",metrics=['accuracy'])"
      ],
      "metadata": {
        "id": "KK_QsAPqbhDJ"
      },
      "execution_count": null,
      "outputs": []
    },
    {
      "cell_type": "code",
      "source": [
        "his=model.fit(train_ds,epochs=10,validation_data=validation_ds)"
      ],
      "metadata": {
        "colab": {
          "base_uri": "https://localhost:8080/"
        },
        "id": "nxJ5GQvwb9HX",
        "outputId": "cca314e1-2fa2-4630-cafe-0f11ab65e851"
      },
      "execution_count": null,
      "outputs": [
        {
          "output_type": "stream",
          "name": "stdout",
          "text": [
            "Epoch 1/10\n",
            "625/625 [==============================] - 63s 84ms/step - loss: 0.2672 - accuracy: 0.8881 - val_loss: 0.2073 - val_accuracy: 0.9120\n",
            "Epoch 2/10\n",
            "625/625 [==============================] - 52s 84ms/step - loss: 0.1883 - accuracy: 0.9231 - val_loss: 0.2065 - val_accuracy: 0.9160\n",
            "Epoch 3/10\n",
            "625/625 [==============================] - 52s 84ms/step - loss: 0.1595 - accuracy: 0.9348 - val_loss: 0.2116 - val_accuracy: 0.9152\n",
            "Epoch 4/10\n",
            "625/625 [==============================] - 52s 83ms/step - loss: 0.1330 - accuracy: 0.9470 - val_loss: 0.2397 - val_accuracy: 0.9122\n",
            "Epoch 5/10\n",
            "625/625 [==============================] - 52s 83ms/step - loss: 0.1163 - accuracy: 0.9542 - val_loss: 0.2306 - val_accuracy: 0.9162\n",
            "Epoch 6/10\n",
            "625/625 [==============================] - 65s 103ms/step - loss: 0.0808 - accuracy: 0.9684 - val_loss: 0.2461 - val_accuracy: 0.9138\n",
            "Epoch 7/10\n",
            "625/625 [==============================] - 55s 88ms/step - loss: 0.0645 - accuracy: 0.9744 - val_loss: 0.2736 - val_accuracy: 0.9106\n",
            "Epoch 8/10\n",
            "625/625 [==============================] - 53s 85ms/step - loss: 0.0522 - accuracy: 0.9808 - val_loss: 0.3002 - val_accuracy: 0.9134\n",
            "Epoch 9/10\n",
            "625/625 [==============================] - 52s 84ms/step - loss: 0.0328 - accuracy: 0.9892 - val_loss: 0.3520 - val_accuracy: 0.9074\n",
            "Epoch 10/10\n",
            "625/625 [==============================] - 52s 83ms/step - loss: 0.0346 - accuracy: 0.9876 - val_loss: 0.3408 - val_accuracy: 0.9064\n"
          ]
        }
      ]
    },
    {
      "cell_type": "code",
      "source": [
        "import matplotlib.pyplot as plt\n",
        "plt.plot(his.history['accuracy'],color='red',label='train')\n",
        "plt.plot(his.history['val_accuracy'],color='blue',label='validation')\n",
        "plt.legend()\n",
        "plt.show()"
      ],
      "metadata": {
        "colab": {
          "base_uri": "https://localhost:8080/",
          "height": 430
        },
        "id": "zcymYvr2cSaQ",
        "outputId": "04fb445b-862d-42ab-dca9-a08faa9b50f9"
      },
      "execution_count": null,
      "outputs": [
        {
          "output_type": "display_data",
          "data": {
            "text/plain": [
              "<Figure size 640x480 with 1 Axes>"
            ],
            "image/png": "[encoded data removed]"
          },
          "metadata": {}
        }
      ]
    },
    {
      "cell_type": "code",
      "source": [
        "#here we see over fitting so we have to user Data augmentation"
      ],
      "metadata": {
        "id": "Algc-APPf07P"
      },
      "execution_count": null,
      "outputs": []
    },
    {
      "cell_type": "code",
      "source": [
        "from keras.preprocessing.image import ImageDataGenerator"
      ],
      "metadata": {
        "id": "CP7pvbRcgbdG"
      },
      "execution_count": null,
      "outputs": []
    },
    {
      "cell_type": "code",
      "source": [
        "#THIS IS HOW WE USE IMAGEDATAGENERATOR\n",
        "\n",
        "# datagen=ImageDataGenerator(\n",
        "#     rotation_range=30,\n",
        "#     shear_range=0.2,\n",
        "#     zoom_range=0.2,\n",
        "#     horizontal_flip=True,\n",
        "#     # vertical_flip=True,\n",
        "#     width_shift_range=0.2,\n",
        "#     height_shift_range=0.2\n",
        "# )\n",
        "# input_batch=img.reshape(1,200,200,3)\n",
        "# datagen.flow(input_batch,batch_size=1)"
      ],
      "metadata": {
        "id": "7GWWiVbzybfw"
      },
      "execution_count": null,
      "outputs": []
    },
    {
      "cell_type": "markdown",
      "source": [],
      "metadata": {
        "id": "D5vqGN-a0VUw"
      }
    },
    {
      "cell_type": "code",
      "source": [
        "batch_size=32\n",
        "train_datagen=ImageDataGenerator(\n",
        "    rescale=1./255,\n",
        "    shear_range=0.2,\n",
        "    zoom_range=0.2,\n",
        "    horizontal_flip=True\n",
        ")\n",
        "test_datagen=ImageDataGenerator(rescale=1./255)\n",
        "\n",
        "train_generator=train_datagen.flow_from_directory(\n",
        "    \"/content/train\",\n",
        "    target_size=(150,150),\n",
        "    batch_size=batch_size,\n",
        "    class_mode='binary'\n",
        ")\n",
        "validation_generator=test_datagen.flow_from_directory(\n",
        "    \"/content/test\",\n",
        "    target_size=(150,150),\n",
        "    batch_size=batch_size,\n",
        "    class_mode='binary'\n",
        ")"
      ],
      "metadata": {
        "colab": {
          "base_uri": "https://localhost:8080/"
        },
        "id": "eGPMyyO708vi",
        "outputId": "c2ad5672-b522-4815-afb7-b286878fc4ea"
      },
      "execution_count": null,
      "outputs": [
        {
          "output_type": "stream",
          "name": "stdout",
          "text": [
            "Found 20000 images belonging to 2 classes.\n",
            "Found 5000 images belonging to 2 classes.\n"
          ]
        }
      ]
    },
    {
      "cell_type": "code",
      "source": [
        "model.compile(optimizer='adam',loss=\"binary_crossentropy\",metrics=['accuracy'])"
      ],
      "metadata": {
        "id": "PTB15qFu2QfZ"
      },
      "execution_count": null,
      "outputs": []
    },
    {
      "cell_type": "code",
      "source": [
        "his=model.fit(train_generator,epochs=10,validation_data=validation_generator)\n"
      ],
      "metadata": {
        "colab": {
          "base_uri": "https://localhost:8080/"
        },
        "id": "EY7DyM_M2aYa",
        "outputId": "c5ab8ecb-f813-4eb9-fd76-66515ad6db8a"
      },
      "execution_count": null,
      "outputs": [
        {
          "output_type": "stream",
          "name": "stdout",
          "text": [
            "Epoch 1/10\n",
            "625/625 [==============================] - 192s 289ms/step - loss: 0.3075 - accuracy: 0.8680 - val_loss: 0.2084 - val_accuracy: 0.9088\n",
            "Epoch 2/10\n",
            "625/625 [==============================] - 184s 294ms/step - loss: 0.2399 - accuracy: 0.8988 - val_loss: 0.2029 - val_accuracy: 0.9128\n",
            "Epoch 3/10\n",
            "625/625 [==============================] - 181s 289ms/step - loss: 0.2277 - accuracy: 0.9039 - val_loss: 0.2286 - val_accuracy: 0.9040\n",
            "Epoch 4/10\n",
            "625/625 [==============================] - 177s 284ms/step - loss: 0.2096 - accuracy: 0.9107 - val_loss: 0.1877 - val_accuracy: 0.9194\n",
            "Epoch 5/10\n",
            "625/625 [==============================] - 177s 283ms/step - loss: 0.1989 - accuracy: 0.9158 - val_loss: 0.1865 - val_accuracy: 0.9212\n",
            "Epoch 6/10\n",
            "625/625 [==============================] - 177s 283ms/step - loss: 0.1936 - accuracy: 0.9187 - val_loss: 0.1901 - val_accuracy: 0.9174\n",
            "Epoch 7/10\n",
            "625/625 [==============================] - 178s 284ms/step - loss: 0.1826 - accuracy: 0.9238 - val_loss: 0.1918 - val_accuracy: 0.9216\n",
            "Epoch 8/10\n",
            "625/625 [==============================] - 177s 283ms/step - loss: 0.1749 - accuracy: 0.9258 - val_loss: 0.1942 - val_accuracy: 0.9170\n",
            "Epoch 9/10\n",
            "625/625 [==============================] - 185s 295ms/step - loss: 0.1660 - accuracy: 0.9315 - val_loss: 0.1815 - val_accuracy: 0.9220\n",
            "Epoch 10/10\n",
            "625/625 [==============================] - 183s 293ms/step - loss: 0.1520 - accuracy: 0.9373 - val_loss: 0.1857 - val_accuracy: 0.9212\n"
          ]
        }
      ]
    },
    {
      "cell_type": "code",
      "source": [
        "import matplotlib.pyplot as plt\n",
        "plt.plot(his.history['accuracy'],color='red',label='train')\n",
        "plt.plot(his.history['val_accuracy'],color='blue',label='validation')\n",
        "plt.legend()\n",
        "plt.show()"
      ],
      "metadata": {
        "colab": {
          "base_uri": "https://localhost:8080/",
          "height": 431
        },
        "id": "SWeLar9H2dsK",
        "outputId": "4ecd8abe-0360-4e6f-b5a2-ed29ba4d9475"
      },
      "execution_count": null,
      "outputs": [
        {
          "output_type": "display_data",
          "data": {
            "text/plain": [
              "<Figure size 640x480 with 1 Axes>"
            ],
            "image/png": "[encoded data removed]"
          },
          "metadata": {}
        }
      ]
    },
    {
      "cell_type": "code",
      "source": [],
      "metadata": {
        "id": "_kw_FGD79-Br"
      },
      "execution_count": null,
      "outputs": []
    }
  ]
}